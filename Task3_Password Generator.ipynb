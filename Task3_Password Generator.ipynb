{
 "cells": [
  {
   "cell_type": "code",
   "execution_count": 4,
   "id": "41fee47f-e353-4f97-963e-92a00cf2fef5",
   "metadata": {},
   "outputs": [
    {
     "name": "stdout",
     "output_type": "stream",
     "text": [
      "Welcome to the Password Generator!\n"
     ]
    },
    {
     "name": "stdin",
     "output_type": "stream",
     "text": [
      "Enter the desired length of the password (6 to 128 characters):  8\n"
     ]
    },
    {
     "name": "stdout",
     "output_type": "stream",
     "text": [
      "Your generated password is: )pbo)0Ql\n"
     ]
    }
   ],
   "source": [
    "import random\n",
    "import string\n",
    "\n",
    "def password_generator():\n",
    "    print(\"Welcome to the Password Generator!\")\n",
    "\n",
    "    try:\n",
    "        length = int(input(\"Enter the desired length of the password (6 to 128 characters): \"))\n",
    "        if length < 6 or length > 128:\n",
    "            print(\"Invalid length. Please choose a length between 6 and 128 characters.\")\n",
    "            return\n",
    "    except ValueError:\n",
    "        print(\"Invalid input. Please enter a numeric value.\")\n",
    "        return\n",
    "\n",
    "    char_pool = string.ascii_letters + string.digits + string.punctuation\n",
    "\n",
    "    password = ''.join(random.choices(char_pool, k=length))\n",
    "\n",
    "    print(f\"Your generated password is: {password}\")\n",
    "\n",
    "\n",
    "if __name__ == \"__main__\":\n",
    "    password_generator()\n"
   ]
  },
  {
   "cell_type": "code",
   "execution_count": null,
   "id": "7a797fb5-5073-4fd7-a08d-392e707d0b99",
   "metadata": {},
   "outputs": [],
   "source": []
  }
 ],
 "metadata": {
  "kernelspec": {
   "display_name": "Python 3 (ipykernel)",
   "language": "python",
   "name": "python3"
  },
  "language_info": {
   "codemirror_mode": {
    "name": "ipython",
    "version": 3
   },
   "file_extension": ".py",
   "mimetype": "text/x-python",
   "name": "python",
   "nbconvert_exporter": "python",
   "pygments_lexer": "ipython3",
   "version": "3.11.9"
  }
 },
 "nbformat": 4,
 "nbformat_minor": 5
}
