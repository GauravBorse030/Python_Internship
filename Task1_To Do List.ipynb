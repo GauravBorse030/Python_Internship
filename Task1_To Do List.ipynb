{
 "cells": [
  {
   "cell_type": "code",
   "execution_count": 3,
   "id": "67c5bdad-8d5c-4616-877a-303bf3950630",
   "metadata": {},
   "outputs": [
    {
     "name": "stdout",
     "output_type": "stream",
     "text": [
      "Welcome to the To-Do List CLI Application!\n",
      "\n",
      "Options: [1] Add Task [2] View Tasks [3] Update Task [4] Delete Task [5] Clear All [6] Exit\n"
     ]
    },
    {
     "name": "stdin",
     "output_type": "stream",
     "text": [
      "Enter your choice:  1\n",
      "Enter task title:  Finish Project\n"
     ]
    },
    {
     "name": "stdout",
     "output_type": "stream",
     "text": [
      "Task 'Finish Project' added.\n",
      "\n",
      "Options: [1] Add Task [2] View Tasks [3] Update Task [4] Delete Task [5] Clear All [6] Exit\n"
     ]
    },
    {
     "name": "stdin",
     "output_type": "stream",
     "text": [
      "Enter your choice:  2\n"
     ]
    },
    {
     "name": "stdout",
     "output_type": "stream",
     "text": [
      "\n",
      "Your Tasks:\n",
      "ID: 1 | Title: Finish report | Status: completed\n",
      "ID: 2 | Title: Finish Project | Status: Pending\n",
      "\n",
      "Options: [1] Add Task [2] View Tasks [3] Update Task [4] Delete Task [5] Clear All [6] Exit\n"
     ]
    },
    {
     "name": "stdin",
     "output_type": "stream",
     "text": [
      "Enter your choice:  3\n",
      "Enter task ID to update:  1\n",
      "Enter new title (or press Enter to skip):  Finish\n",
      "Enter new status (Pending/Completed or press Enter to skip):  compled\n"
     ]
    },
    {
     "name": "stdout",
     "output_type": "stream",
     "text": [
      "Task updated.\n",
      "\n",
      "Options: [1] Add Task [2] View Tasks [3] Update Task [4] Delete Task [5] Clear All [6] Exit\n"
     ]
    },
    {
     "name": "stdin",
     "output_type": "stream",
     "text": [
      "Enter your choice:  2\n"
     ]
    },
    {
     "name": "stdout",
     "output_type": "stream",
     "text": [
      "\n",
      "Your Tasks:\n",
      "ID: 1 | Title: Finish | Status: compled\n",
      "ID: 2 | Title: Finish Project | Status: Pending\n",
      "\n",
      "Options: [1] Add Task [2] View Tasks [3] Update Task [4] Delete Task [5] Clear All [6] Exit\n"
     ]
    },
    {
     "name": "stdin",
     "output_type": "stream",
     "text": [
      "Enter your choice:  4\n",
      "Enter task ID to delete:  2\n"
     ]
    },
    {
     "name": "stdout",
     "output_type": "stream",
     "text": [
      "Task deleted.\n",
      "\n",
      "Options: [1] Add Task [2] View Tasks [3] Update Task [4] Delete Task [5] Clear All [6] Exit\n"
     ]
    },
    {
     "name": "stdin",
     "output_type": "stream",
     "text": [
      "Enter your choice:  6\n"
     ]
    },
    {
     "name": "stdout",
     "output_type": "stream",
     "text": [
      "Goodbye!\n"
     ]
    }
   ],
   "source": [
    "import sqlite3\n",
    "\n",
    "class TaskManagerCLI:\n",
    "    def __init__(self, db_name='tasks.db'):\n",
    "        self.conn = sqlite3.connect(db_name)\n",
    "        self.cursor = self.conn.cursor()\n",
    "        self.cursor.execute('CREATE TABLE IF NOT EXISTS tasks (id INTEGER PRIMARY KEY, title TEXT, status TEXT)')\n",
    "    \n",
    "    def add_task(self, title):\n",
    "        self.cursor.execute('INSERT INTO tasks (title, status) VALUES (?, ?)', (title, 'Pending'))\n",
    "        self.conn.commit()\n",
    "        print(f\"Task '{title}' added.\")\n",
    "    \n",
    "    def view_tasks(self):\n",
    "        self.cursor.execute('SELECT id, title, status FROM tasks')\n",
    "        tasks = self.cursor.fetchall()\n",
    "        if tasks:\n",
    "            print(\"\\nYour Tasks:\")\n",
    "            for task in tasks:\n",
    "                print(f\"ID: {task[0]} | Title: {task[1]} | Status: {task[2]}\")\n",
    "        else:\n",
    "            print(\"\\nNo tasks found.\")\n",
    "    \n",
    "    def update_task(self, task_id, new_title=None, new_status=None):\n",
    "        if new_title:\n",
    "            self.cursor.execute('UPDATE tasks SET title = ? WHERE id = ?', (new_title, task_id))\n",
    "        if new_status:\n",
    "            self.cursor.execute('UPDATE tasks SET status = ? WHERE id = ?', (new_status, task_id))\n",
    "        self.conn.commit()\n",
    "        print(\"Task updated.\")\n",
    "    \n",
    "    def delete_task(self, task_id):\n",
    "        self.cursor.execute('DELETE FROM tasks WHERE id = ?', (task_id,))\n",
    "        self.conn.commit()\n",
    "        print(\"Task deleted.\")\n",
    "    \n",
    "    def clear_tasks(self):\n",
    "        self.cursor.execute('DELETE FROM tasks')\n",
    "        self.conn.commit()\n",
    "        print(\"All tasks cleared.\")\n",
    "    \n",
    "    def close(self):\n",
    "        self.conn.close()\n",
    "\n",
    "def main():\n",
    "    manager = TaskManagerCLI()\n",
    "    print(\"Welcome to the To-Do List CLI Application!\")\n",
    "    \n",
    "    while True:\n",
    "        print(\"\\nOptions: [1] Add Task [2] View Tasks [3] Update Task [4] Delete Task [5] Clear All [6] Exit\")\n",
    "        choice = input(\"Enter your choice: \")\n",
    "        \n",
    "        if choice == '1':\n",
    "            title = input(\"Enter task title: \")\n",
    "            manager.add_task(title)\n",
    "        elif choice == '2':\n",
    "            manager.view_tasks()\n",
    "        elif choice == '3':\n",
    "            task_id = int(input(\"Enter task ID to update: \"))\n",
    "            new_title = input(\"Enter new title (or press Enter to skip): \")\n",
    "            new_status = input(\"Enter new status (Pending/Completed or press Enter to skip): \")\n",
    "            manager.update_task(task_id, new_title if new_title else None, new_status if new_status else None)\n",
    "        elif choice == '4':\n",
    "            task_id = int(input(\"Enter task ID to delete: \"))\n",
    "            manager.delete_task(task_id)\n",
    "        elif choice == '5':\n",
    "            manager.clear_tasks()\n",
    "        elif choice == '6':\n",
    "            manager.close()\n",
    "            print(\"Goodbye!\")\n",
    "            break\n",
    "        else:\n",
    "            print(\"Invalid choice. Please try again.\")\n",
    "\n",
    "if __name__ == \"__main__\":\n",
    "    main()\n"
   ]
  },
  {
   "cell_type": "code",
   "execution_count": null,
   "id": "e51dba0f-978b-4ca7-8a47-2b6ac3fbc6f7",
   "metadata": {},
   "outputs": [],
   "source": []
  }
 ],
 "metadata": {
  "kernelspec": {
   "display_name": "Python 3 (ipykernel)",
   "language": "python",
   "name": "python3"
  },
  "language_info": {
   "codemirror_mode": {
    "name": "ipython",
    "version": 3
   },
   "file_extension": ".py",
   "mimetype": "text/x-python",
   "name": "python",
   "nbconvert_exporter": "python",
   "pygments_lexer": "ipython3",
   "version": "3.11.9"
  }
 },
 "nbformat": 4,
 "nbformat_minor": 5
}
